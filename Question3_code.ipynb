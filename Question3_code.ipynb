{
 "cells": [
  {
   "cell_type": "code",
   "execution_count": 15,
   "id": "65d765b4",
   "metadata": {},
   "outputs": [
    {
     "name": "stderr",
     "output_type": "stream",
     "text": [
      "C:\\Users\\MINATI KONWAR\\AppData\\Local\\Temp\\ipykernel_29116\\2103856269.py:51: DeprecationWarning: KerasClassifier is deprecated, use Sci-Keras (https://github.com/adriangb/scikeras) instead. See https://www.adriangb.com/scikeras/stable/migration.html for help migrating.\n",
      "  model = tf.keras.wrappers.scikit_learn.KerasClassifier(build_fn=create_model, epochs=10, batch_size=32, verbose=0)\n"
     ]
    },
    {
     "name": "stdout",
     "output_type": "stream",
     "text": [
      "Epoch 1/10\n",
      "1875/1875 [==============================] - 7s 4ms/step - loss: 0.2303 - accuracy: 0.9327 - val_loss: 0.1252 - val_accuracy: 0.9627\n",
      "Epoch 2/10\n",
      "1875/1875 [==============================] - 7s 4ms/step - loss: 0.0973 - accuracy: 0.9704 - val_loss: 0.0948 - val_accuracy: 0.9701\n",
      "Epoch 3/10\n",
      "1875/1875 [==============================] - 6s 3ms/step - loss: 0.0682 - accuracy: 0.9785 - val_loss: 0.0730 - val_accuracy: 0.9767\n",
      "Epoch 4/10\n",
      "1875/1875 [==============================] - 7s 3ms/step - loss: 0.0507 - accuracy: 0.9838 - val_loss: 0.0855 - val_accuracy: 0.9757\n",
      "Epoch 5/10\n",
      "1875/1875 [==============================] - 7s 4ms/step - loss: 0.0405 - accuracy: 0.9868 - val_loss: 0.0865 - val_accuracy: 0.9747\n",
      "Epoch 6/10\n",
      "1875/1875 [==============================] - 6s 3ms/step - loss: 0.0331 - accuracy: 0.9891 - val_loss: 0.0874 - val_accuracy: 0.9768\n",
      "Epoch 7/10\n",
      "1875/1875 [==============================] - 6s 3ms/step - loss: 0.0275 - accuracy: 0.9907 - val_loss: 0.0825 - val_accuracy: 0.9793\n",
      "Epoch 8/10\n",
      "1875/1875 [==============================] - 6s 3ms/step - loss: 0.0254 - accuracy: 0.9915 - val_loss: 0.0846 - val_accuracy: 0.9779\n",
      "Epoch 9/10\n",
      "1875/1875 [==============================] - 7s 4ms/step - loss: 0.0206 - accuracy: 0.9931 - val_loss: 0.0929 - val_accuracy: 0.9779\n",
      "Epoch 10/10\n",
      "1875/1875 [==============================] - 6s 3ms/step - loss: 0.0187 - accuracy: 0.9936 - val_loss: 0.1054 - val_accuracy: 0.9754\n",
      "313/313 [==============================] - 1s 2ms/step - loss: 0.1054 - accuracy: 0.9754\n",
      "Test Accuracy: 0.9753999710083008\n"
     ]
    }
   ],
   "source": [
    "import tensorflow as tf\n",
    "from tensorflow.keras import layers, models\n",
    "from sklearn.model_selection import GridSearchCV\n",
    "from sklearn.metrics import accuracy_score\n",
    "from sklearn.preprocessing import StandardScaler\n",
    "\n",
    "# Define the architecture of the neural network\n",
    "def create_model(num_hidden_layers, num_neurons, activation, loss):\n",
    "    model = models.Sequential()\n",
    "    model.add(layers.Flatten(input_shape=(image_height, image_width, num_channels)))\n",
    "    \n",
    "    for _ in range(num_hidden_layers):\n",
    "        model.add(layers.Dense(num_neurons, activation=activation))\n",
    "    \n",
    "    model.add(layers.Dense(num_classes, activation='softmax'))\n",
    "    \n",
    "    model.compile(optimizer='adam', loss=loss, metrics=['accuracy'])  # Compile the model with specified loss\n",
    "    \n",
    "    return model\n",
    "\n",
    "# Preprocessing function for input images\n",
    "def preprocess_images(X_train, X_test):\n",
    "    # Normalize pixel values to be between 0 and 1\n",
    "    X_train = X_train / 255.0\n",
    "    X_test = X_test / 255.0\n",
    "    \n",
    "    # Reshape images to the appropriate shape for the neural network\n",
    "    X_train = X_train.reshape((-1, image_height, image_width, num_channels))\n",
    "    X_test = X_test.reshape((-1, image_height, image_width, num_channels))\n",
    "    \n",
    "    return X_train, X_test\n",
    "\n",
    "# Load and preprocess the dataset (example: MNIST)\n",
    "(X_train, y_train), (X_test, y_test) = tf.keras.datasets.mnist.load_data()\n",
    "\n",
    "image_height, image_width = X_train.shape[1], X_train.shape[2]\n",
    "num_channels = 1  # For grayscale images\n",
    "num_classes = 10\n",
    "\n",
    "X_train, X_test = preprocess_images(X_train, X_test)\n",
    "\n",
    "# Define hyperparameters for tuning\n",
    "param_grid = {\n",
    "    'num_hidden_layers': [1, 2, 3],\n",
    "    'num_neurons': [64, 128, 256],\n",
    "    'activation': ['relu', 'sigmoid'],\n",
    "    'loss': ['sparse_categorical_crossentropy']  # Specify the loss function\n",
    "}\n",
    "\n",
    "# Create the model\n",
    "model = tf.keras.wrappers.scikit_learn.KerasClassifier(build_fn=create_model, epochs=10, batch_size=32, verbose=0)\n",
    "\n",
    "# Perform grid search for hyperparameter tuning\n",
    "grid = GridSearchCV(estimator=model, param_grid=param_grid, cv=3)\n",
    "grid_result = grid.fit(X_train, y_train)\n",
    "\n",
    "# Get the best hyperparameters\n",
    "best_num_hidden_layers = grid_result.best_params_['num_hidden_layers']\n",
    "best_num_neurons = grid_result.best_params_['num_neurons']\n",
    "best_activation = grid_result.best_params_['activation']\n",
    "best_loss = grid_result.best_params_['loss']\n",
    "\n",
    "# Train the final model with the best hyperparameters\n",
    "final_model = create_model(best_num_hidden_layers, best_num_neurons, best_activation, best_loss)\n",
    "final_model.fit(X_train, y_train, epochs=10, batch_size=32, validation_data=(X_test, y_test))\n",
    "\n",
    "# Evaluate the final model\n",
    "test_loss, test_accuracy = final_model.evaluate(X_test, y_test)\n",
    "print(f'Test Accuracy: {test_accuracy}')"
   ]
  },
  {
   "cell_type": "code",
   "execution_count": null,
   "id": "42ecae06",
   "metadata": {},
   "outputs": [],
   "source": []
  }
 ],
 "metadata": {
  "kernelspec": {
   "display_name": "Python 3 (ipykernel)",
   "language": "python",
   "name": "python3"
  },
  "language_info": {
   "codemirror_mode": {
    "name": "ipython",
    "version": 3
   },
   "file_extension": ".py",
   "mimetype": "text/x-python",
   "name": "python",
   "nbconvert_exporter": "python",
   "pygments_lexer": "ipython3",
   "version": "3.9.12"
  }
 },
 "nbformat": 4,
 "nbformat_minor": 5
}
